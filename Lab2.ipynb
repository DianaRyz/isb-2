{
  "nbformat": 4,
  "nbformat_minor": 0,
  "metadata": {
    "colab": {
      "provenance": [],
      "authorship_tag": "ABX9TyO1AbIl8o/n4YzjuFWFYKQ+"
    },
    "kernelspec": {
      "name": "python3",
      "display_name": "Python 3"
    },
    "language_info": {
      "name": "python"
    }
  },
  "cells": [
    {
      "cell_type": "code",
      "execution_count": null,
      "metadata": {
        "id": "nySGHJDJV8je"
      },
      "outputs": [],
      "source": [
        "import math"
      ]
    },
    {
      "cell_type": "markdown",
      "source": [
        "- Частотный побитовый тест"
      ],
      "metadata": {
        "id": "NN-BUkGKlqK2"
      }
    },
    {
      "cell_type": "code",
      "source": [
        "list = [0, 1, 0, 0, 0, 1, 0, 1, 0, 0, 1, 1, 0, 0, 1, 1, 0, 0, 0, 1, 1, 1, 1, 0, 1, 1, 1, 1, 0, 1, 0, 0, 1, 1, 0, 0, 0, 0, 0, 1, 1, 1, 1, 0, 0, 1, 0, 1, 1, 0, 1, 0, 0, 1, 1, 1, 0, 0, 1, 1, 0, 0, 1, 1, 1, 1, 1, 0, 1, 0, 1, 0, 1, 0, 1, 1, 1, 1, 0, 0, 0, 1, 1, 1, 1, 1, 0, 1, 1, 0, 1, 0, 0, 0, 1, 1, 1, 0, 0, 1, 0, 0, 1, 1, 1, 1, 1, 0, 0, 1, 1, 1, 0, 0, 1, 0, 0, 1, 1, 0, 1, 1, 0, 0, 1, 1, 0, 0]\n",
        "\n",
        "#заменяем 0 на -1\n",
        "for i in range(len(list)):\n",
        "  if list[i] == 0:\n",
        "    list[i] = -1\n",
        "\n",
        "print(list)"
      ],
      "metadata": {
        "colab": {
          "base_uri": "https://localhost:8080/"
        },
        "id": "gegH-HA-XS89",
        "outputId": "4d97fc04-e017-4e67-de60-115e8060ad1d"
      },
      "execution_count": null,
      "outputs": [
        {
          "output_type": "stream",
          "name": "stdout",
          "text": [
            "[-1, 1, -1, -1, -1, 1, -1, 1, -1, -1, 1, 1, -1, -1, 1, 1, -1, -1, -1, 1, 1, 1, 1, -1, 1, 1, 1, 1, -1, 1, -1, -1, 1, 1, -1, -1, -1, -1, -1, 1, 1, 1, 1, -1, -1, 1, -1, 1, 1, -1, 1, -1, -1, 1, 1, 1, -1, -1, 1, 1, -1, -1, 1, 1, 1, 1, 1, -1, 1, -1, 1, -1, 1, -1, 1, 1, 1, 1, -1, -1, -1, 1, 1, 1, 1, 1, -1, 1, 1, -1, 1, -1, -1, -1, 1, 1, 1, -1, -1, 1, -1, -1, 1, 1, 1, 1, 1, -1, -1, 1, 1, 1, -1, -1, 1, -1, -1, 1, 1, -1, 1, 1, -1, -1, 1, 1, -1, -1]\n",
            "12\n"
          ]
        }
      ]
    },
    {
      "cell_type": "code",
      "source": [
        "S1 = (1/math.sqrt(128))*sum(list)\n",
        "print(S1) \n",
        "P1 = math.erfc(S1/math.sqrt(2))\n",
        "print(P1) "
      ],
      "metadata": {
        "colab": {
          "base_uri": "https://localhost:8080/"
        },
        "id": "52k-IXrmYvxG",
        "outputId": "fd85f20b-3192-4a51-d114-969bface7ca8"
      },
      "execution_count": null,
      "outputs": [
        {
          "output_type": "stream",
          "name": "stdout",
          "text": [
            "1.0606601717798212\n",
            "0.28884436634648497\n"
          ]
        }
      ]
    },
    {
      "cell_type": "markdown",
      "source": [
        "- Тест на одинаковые подряд идущие биты"
      ],
      "metadata": {
        "id": "KmXek56ol5D_"
      }
    },
    {
      "cell_type": "code",
      "source": [
        "list1 = [0, 1, 0, 0, 0, 1, 0, 1, 0, 0, 1, 1, 0, 0, 1, 1, 0, 0, 0, 1, 1, 1, 1, 0, 1, 1, 1, 1, 0, 1, 0, 0, 1, 1, 0, 0, 0, 0, 0, 1, 1, 1, 1, 0, 0, 1, 0, 1, 1, 0, 1, 0, 0, 1, 1, 1, 0, 0, 1, 1, 0, 0, 1, 1, 1, 1, 1, 0, 1, 0, 1, 0, 1, 0, 1, 1, 1, 1, 0, 0, 0, 1, 1, 1, 1, 1, 0, 1, 1, 0, 1, 0, 0, 0, 1, 1, 1, 0, 0, 1, 0, 0, 1, 1, 1, 1, 1, 0, 0, 1, 1, 1, 0, 0, 1, 0, 0, 1, 1, 0, 1, 1, 0, 0, 1, 1, 0, 0]\n",
        "\n",
        "S2 = (1/128)*sum(list1)\n",
        "print(S2) "
      ],
      "metadata": {
        "colab": {
          "base_uri": "https://localhost:8080/"
        },
        "id": "JXMR6Q03l-Bq",
        "outputId": "db6b496f-f5ed-41f5-c70b-9fce7d18e7ba"
      },
      "execution_count": null,
      "outputs": [
        {
          "output_type": "stream",
          "name": "stdout",
          "text": [
            "0.546875\n"
          ]
        }
      ]
    },
    {
      "cell_type": "code",
      "source": [
        "(0.5 - S2) < (2/math.sqrt(128)) #true"
      ],
      "metadata": {
        "colab": {
          "base_uri": "https://localhost:8080/"
        },
        "id": "ov9JajE-m_fj",
        "outputId": "176fba0e-cc09-4eb4-e5ce-7f4d6265648f"
      },
      "execution_count": null,
      "outputs": [
        {
          "output_type": "execute_result",
          "data": {
            "text/plain": [
              "True"
            ]
          },
          "metadata": {},
          "execution_count": 34
        }
      ]
    },
    {
      "cell_type": "code",
      "source": [
        "ri = []\n",
        "for i in range(len(list1) - 1):\n",
        "    if list1[i] == list1[i + 1]:\n",
        "        ri.append(0)\n",
        "    else:\n",
        "        ri.append(1)\n",
        "print(ri)\n",
        "Vn = sum(ri)\n",
        "print(Vn)\n",
        "P2 = math.erfc((abs(Vn - 2 * 128 * S2 * (1 - S2))) / (2 * math.sqrt(2 * 128) * S2 * (1 - S2)))\n",
        "print(P2)  # P2 = 0.7976653440785991"
      ],
      "metadata": {
        "colab": {
          "base_uri": "https://localhost:8080/"
        },
        "id": "7I41pnBRnYMo",
        "outputId": "e32f7161-6029-46b1-fba7-99f65f584316"
      },
      "execution_count": null,
      "outputs": [
        {
          "output_type": "stream",
          "name": "stdout",
          "text": [
            "[1, 1, 0, 0, 1, 1, 1, 1, 0, 1, 0, 1, 0, 1, 0, 1, 0, 0, 1, 0, 0, 0, 1, 1, 0, 0, 0, 1, 1, 1, 0, 1, 0, 1, 0, 0, 0, 0, 1, 0, 0, 0, 1, 0, 1, 1, 1, 0, 1, 1, 1, 0, 1, 0, 0, 1, 0, 1, 0, 1, 0, 1, 0, 0, 0, 0, 1, 1, 1, 1, 1, 1, 1, 1, 0, 0, 0, 1, 0, 0, 1, 0, 0, 0, 0, 1, 1, 0, 1, 1, 1, 0, 0, 1, 0, 0, 1, 0, 1, 1, 0, 1, 0, 0, 0, 0, 1, 0, 1, 0, 0, 1, 0, 1, 1, 0, 1, 0, 1, 1, 0, 1, 0, 1, 0, 1, 0]\n",
            "62\n",
            "0.7976653440785991\n"
          ]
        }
      ]
    },
    {
      "cell_type": "markdown",
      "source": [
        "- Тест на самую длинную последовательность единиц в блоке"
      ],
      "metadata": {
        "id": "6SUx0atW47Nm"
      }
    },
    {
      "cell_type": "code",
      "source": [
        "dict2 = {1: \"01000101\", 2: \"00110011\", 3: \"00011110\", 4: \"11110100\", 5: \"11000001\", 6: \"11100101\", 7: \"10100111\", 8: \"00110011\", 9: \"11101010\", 10: \"10111100\", 11: \"01111101\", 12: \"10100011\", 13: \"10010011\", 14: \"11100111\", 15: \"00100110\", 16: \"11001100\"}\n",
        "list2 = []\n",
        "for k, v in dict2.items():\n",
        "        max2 = 1\n",
        "        for i in range(len(v)):\n",
        "            max1 = 0\n",
        "            if v[i] == \"1\":\n",
        "                z = i\n",
        "                while v[z: z + 1] == \"1\":\n",
        "                    z += 1\n",
        "                    max1 += 1\n",
        "            if max1 > max2:\n",
        "                max2 = max1\n",
        "        list2.append(max2)\n",
        "print(list2)\n",
        "v1 = list2.count(1)\n",
        "v2 = list2.count(2)\n",
        "v3 = list2.count(3)\n",
        "v4 = list2.count(4)+list2.count(5)+list2.count(6)+list2.count(7)+list2.count(8)\n",
        "print(v1, v2, v3, v4)\n",
        "\n",
        "X2 = 0\n",
        "X2 += ((v1 - 16 * 0.2148)**2) / (16 * 0.2148)\n",
        "X2 += ((v2 - 16 * 0.3672)**2) / (16 * 0.3672)\n",
        "X2 += ((v3 - 16 * 0.2305)**2) / (16 * 0.2305)\n",
        "X2 += ((v4 - 16 * 0.1875)**2) / (16 * 0.1875)\n",
        "print(X2)\n",
        "print(X2/2)\n",
        "\n",
        "P3 = 0.51198089"
      ],
      "metadata": {
        "colab": {
          "base_uri": "https://localhost:8080/"
        },
        "id": "NDOansAj5C7E",
        "outputId": "0ff81ea9-c87a-4ec1-f023-8a243a472a0c"
      },
      "execution_count": null,
      "outputs": [
        {
          "output_type": "stream",
          "name": "stdout",
          "text": [
            "[1, 2, 4, 4, 2, 3, 3, 2, 3, 4, 5, 2, 2, 3, 2, 2]\n",
            "1 7 4 4\n",
            "2.302838082104336\n",
            "1.151419041052168\n"
          ]
        }
      ]
    }
  ]
}